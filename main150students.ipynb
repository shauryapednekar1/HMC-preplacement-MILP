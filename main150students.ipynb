{
 "cells": [
  {
   "cell_type": "code",
   "execution_count": null,
   "metadata": {},
   "outputs": [],
   "source": [
    "# Parameter set by me, I can change this as desired and the rest of the model will work fine\n",
    "numStudents = 150 # TODO: Make more realistic?"
   ]
  },
  {
   "cell_type": "code",
   "execution_count": 1,
   "metadata": {},
   "outputs": [],
   "source": [
    "import Pkg; \n",
    "Pkg.add(\"GLPK\")\n",
    "Pkg.add(\"JuMP\")\n",
    "Pkg.add(\"CSV\")\n",
    "Pkg.add(\"DataFrames\")"
   ]
  },
  {
   "cell_type": "code",
   "execution_count": 2,
   "metadata": {},
   "outputs": [
    {
     "name": "stderr",
     "output_type": "stream",
     "text": [
      "┌ Info: Precompiling GLPK [60bf3e95-4087-53dc-ae20-288a0d20c6a6]\n",
      "└ @ Base loading.jl:1317\n",
      "┌ Info: Precompiling JuMP [4076af6c-e467-56ae-b986-b466b2749572]\n",
      "└ @ Base loading.jl:1317\n"
     ]
    }
   ],
   "source": [
    "const DATA_DIR = joinpath(@__DIR__, \"data\");\n",
    "\n",
    "\n",
    "\n",
    "import DataFrames\n",
    "import CSV\n",
    "import Random\n",
    "import GLPK\n",
    "using JuMP"
   ]
  },
  {
   "cell_type": "code",
   "execution_count": 3,
   "metadata": {},
   "outputs": [],
   "source": [
    "########### Parsing the CSV data: #######################\n",
    "\n",
    "csv_df = CSV.read(joinpath(DATA_DIR, \"courseData.csv\"), DataFrames.DataFrame)\n",
    "\n",
    "ProfsSet = Set{String}(skipmissing(csv_df[!, 1])) # set of all profs\n",
    "numProfs = length(ProfsSet)\n",
    "CoursesSet = Set{String}() # set of all courses\n",
    "profToCourseDict = Dict{String, Set{String}}() # Dict of the format {ProfName => {ProfCourse1, ProfCourse2, ...}}\n",
    "\n",
    "for i in 1:7 # The range 1:7 is based on the current format of the csv\n",
    "    currProf = csv_df[i, 1]\n",
    "    currCourses = Set{String}()\n",
    "    for j in 2:4\n",
    "        if ~ ismissing(csv_df[i, j])\n",
    "            push!(currCourses, csv_df[i, j])\n",
    "            push!(CoursesSet, csv_df[i, j] )\n",
    "        end        \n",
    "    end\n",
    "    profToCourseDict[currProf] = currCourses\n",
    "end\n",
    "\n",
    "numCourses = length(CoursesSet) # Based on number of courses in csv\n",
    "\n",
    "############ Getting Course Timings ##############\n",
    "\n",
    "courseTimingsDict = Dict{String, Vector{Any}}()\n",
    "\n",
    "for i in 1:numProfs\n",
    "    currProf = csv_df[i, 1]\n",
    "    days = csv_df[i, 5]\n",
    "    startTime = csv_df[i, 6]\n",
    "    EndTime = csv_df[i, 7]\n",
    "    for course in profToCourseDict[currProf]\n",
    "        courseTimingsDict[course] = [days, startTime, EndTime]\n",
    "    end    \n",
    "end\n",
    "\n",
    "# courseTimingsDict\n",
    "\n",
    "####### Cap on Number of Seats in a Course ########\n",
    "\n",
    "# TODO: THIS WILL CAUSE THE PROGRAM TO FAVOUR COURSES THAT HAVE A HIGHER NUMBER OF SEATS\n",
    "# SHOULD I FACTOR THIS INTO THE PROGRAM SOMEHOW? (Maybe each prof can offer a max number of seats? I'm not sure yet)\n",
    "\n",
    "courseCapDict = Dict{String, Int32}()\n",
    "\n",
    "for i in 1:numCourses\n",
    "    courseCapDict[csv_df[i,9]] = csv_df[i,10]\n",
    "end\n",
    "\n",
    "# courseCapDict\n",
    "\n",
    "\n",
    "#############################################################"
   ]
  },
  {
   "cell_type": "code",
   "execution_count": 4,
   "metadata": {},
   "outputs": [
    {
     "data": {
      "text/plain": [
       "getRandomFixedSum (generic function with 1 method)"
      ]
     },
     "execution_count": 4,
     "metadata": {},
     "output_type": "execute_result"
    }
   ],
   "source": [
    "############ Helper Function ####################################\n",
    "\n",
    "# Function that returns a random list of integers of length \"len\" with the sum of the integers equal to\n",
    "# \"fixedSum\" to reflect how a student distributes a fixed number of points among the courses being offered\n",
    "function getRandomFixedSum(len, fixedSum)\n",
    "    res = Int64[]\n",
    "    currSum = 0\n",
    "    \n",
    "    # adding a random integer for each course in the list\n",
    "    for i in 1:len\n",
    "        # if fixedSum reached, the rest of the  values will be 0\n",
    "        if currSum >= fixedSum\n",
    "            push!(res, 0)\n",
    "        else\n",
    "            # this if condition ensures that each student uses all the points available to him\n",
    "            # by spending all remaining points on the last course in the list\n",
    "            if i == len\n",
    "                push!(res, (fixedSum-currSum))\n",
    "            else\n",
    "                currRand = rand(0:(fixedSum-currSum)) # ensures student does not spend more points than they have left\n",
    "                push!(res, currRand)\n",
    "                currSum += currRand\n",
    "            end\n",
    "        end        \n",
    "    end\n",
    "    \n",
    "    # shuffling the list to ensure no bias towards any specific course (will need to make this more reflective \n",
    "    # of reality later)\n",
    "    Random.shuffle!(res)\n",
    "    \n",
    "    # Since 0 represents that a student does not want to take a course, this discourages a student being assigned to\n",
    "    # courses that they do not want\n",
    "    replace!(res, 0 => -500)\n",
    "    return res\n",
    "end \n",
    "\n",
    "#############################################################"
   ]
  },
  {
   "cell_type": "code",
   "execution_count": 5,
   "metadata": {},
   "outputs": [],
   "source": [
    "############ Creating Course Rating Dictionary ##############\n",
    "\n",
    "# courseRatingMatrix = zeros(Int32, numStudents, numCourses) # Might switch to using matrices instead of dicts at some point.\n",
    "courseRatingDict = Dict{Tuple{Int64, String}, Int64}() # NOTE: Might need to change the type of the key when the students become strings instead of numbers\n",
    "\n",
    "for i in 1:numStudents\n",
    "    currRatings = getRandomFixedSum(numCourses,10)\n",
    "    for (index, course) in enumerate(CoursesSet)\n",
    "        courseRatingDict[(i, course)] = currRatings[index]\n",
    "    end\n",
    "#     courseRatingMatrix[i, :] = getRandomFixedSum(numCourses,10) # Might switch to using matrices instead of dicts at some point.\n",
    "end\n",
    "\n",
    "# courseRatingMatrix\n",
    "# courseRatingDict\n",
    "\n",
    "#############################################################"
   ]
  },
  {
   "cell_type": "code",
   "execution_count": 6,
   "metadata": {},
   "outputs": [],
   "source": [
    "##### Creating Course Timings Dictionary #######\n",
    "\n",
    "# courseTimeBool is a dictionary of the format:\n",
    "# { (course, timestep) => 1 if course takes place at timestep and 0 otherwise}\n",
    "# An example of a timestep is W1335 which refers to Wednesday at 1:35pm\n",
    "\n",
    "\n",
    "courseTimeBool = Dict{Tuple{String, String}, Int32}()\n",
    "\n",
    "discreteTimes = []\n",
    "TimeIdsSet = Set()\n",
    "for k in 7:23\n",
    "    for j in 0:5\n",
    "        for i in [0, 5]\n",
    "            currTime = \"$k$(j)$(i)\"\n",
    "            currTime = parse(Int64, currTime)\n",
    "            push!(discreteTimes, currTime)\n",
    "        end\n",
    "    end\n",
    "end\n",
    "\n",
    "days = \"MTWRF\"\n",
    "for currTime in discreteTimes\n",
    "    for day in days\n",
    "        currTimeString = string(currTime)\n",
    "        currTimeId = \"$(day)$(currTimeString)\"\n",
    "        push!(TimeIdsSet, currTimeId)\n",
    "        for course in CoursesSet\n",
    "            if day in courseTimingsDict[course][1]\n",
    "                startTime = courseTimingsDict[course][2]\n",
    "                endTime = courseTimingsDict[course][3]\n",
    "                # Not strictly greater than or less than because\n",
    "                # courses can take place back to back.\n",
    "                afterStartTime = currTime > startTime\n",
    "                beforeEndTime = currTime < endTime\n",
    "                \n",
    "                if afterStartTime & beforeEndTime\n",
    "                    courseTimeBool[(course, currTimeId)] = 1\n",
    "                end\n",
    "            end\n",
    "        end\n",
    "    end\n",
    "end\n",
    "\n",
    "# For all the keys that did not get a value of 1, I'm setting them\n",
    "# to 0\n",
    "# This is essentially what a defaultdict does, but defaultdicts\n",
    "# don't work well with optimizers so I'm doing this \"manually\" here instead\n",
    "for timeId in TimeIdsSet\n",
    "    for course in CoursesSet\n",
    "        if ~ ((course, timeId) in keys(courseTimeBool))\n",
    "            courseTimeBool[(course, timeId)] = 0\n",
    "        end\n",
    "    end\n",
    "end\n",
    "\n",
    "# courseTimeBool\n",
    "\n",
    "#############################################################"
   ]
  },
  {
   "cell_type": "code",
   "execution_count": 7,
   "metadata": {},
   "outputs": [
    {
     "data": {
      "text/plain": [
       "A JuMP Model\n",
       "Feasibility problem with:\n",
       "Variables: 0\n",
       "Model mode: AUTOMATIC\n",
       "CachingOptimizer state: EMPTY_OPTIMIZER\n",
       "Solver name: GLPK"
      ]
     },
     "execution_count": 7,
     "metadata": {},
     "output_type": "execute_result"
    }
   ],
   "source": [
    "model = Model(GLPK.Optimizer)"
   ]
  },
  {
   "cell_type": "code",
   "execution_count": 8,
   "metadata": {},
   "outputs": [],
   "source": [
    "########## DECISION VARIABLES ########################\n",
    "\n",
    "@variable(model, coursesBool[course in CoursesSet], Bin);\n",
    "\n",
    "@variable(model, studentAssignments[student in 1:numStudents, course in CoursesSet], Bin);\n",
    "\n",
    "####### Trick for Linearizing Quadratic Terms!!! ###############\n",
    "\n",
    "# The essense of the trick is it ensures that : z[student, course] = studentAssignment[student, course] * coursesBool[course]\n",
    "# using the 4 constraints below\n",
    "# got the trick from this website: https://orinanobworld.blogspot.com/2010/10/binary-variables-and-quadratic-terms.html\n",
    "\n",
    "@variable(model, z[student in 1:numStudents, course in CoursesSet], Bin);\n",
    "\n",
    "for student in 1:numStudents\n",
    "    for course in CoursesSet\n",
    "        @constraint(model, z[student, course] <= studentAssignments[student, course])\n",
    "        @constraint(model, z[student, course] >= 0) # this isnt really needed in our case\n",
    "        @constraint(model, z[student, course] <= coursesBool[course])\n",
    "        @constraint(model, z[student, course] >= (coursesBool[course] - (1-studentAssignments[student, course])))\n",
    "    end\n",
    "end\n",
    "\n",
    "#################################################################"
   ]
  },
  {
   "cell_type": "code",
   "execution_count": 9,
   "metadata": {},
   "outputs": [],
   "source": [
    "###### CONSTRAINTS #############################################\n",
    "\n",
    "# Constraint: min and max number of electives given to a student\n",
    "for student in 1:numStudents\n",
    "    @constraint(model, 1 <= sum(z[student, course] for course in CoursesSet) <= 2)\n",
    "end\n",
    "\n",
    "# Constraint: Cap on # of students in a course\n",
    "for course in CoursesSet\n",
    "    @constraint(model, sum(z[student, course] for student in 1:numStudents) <= courseCapDict[course]) \n",
    "end\n",
    "\n",
    "\n",
    "# Constraint: Time Conflict constraint for Students\n",
    "for timeId in TimeIdsSet\n",
    "    for student in 1:numStudents\n",
    "        @constraint(model, sum([courseTimeBool[(course, timeId)]*z[student, course] for course in CoursesSet]) <= 1)\n",
    "    end\n",
    "end\n",
    "\n",
    "# Constraint: Time Conflict constraint for Profs (Uncomment when Profs teach courses at different times) \n",
    "# (currently each prof teaches only one course so this isnt needed.)\n",
    "\n",
    "# for timeId in TimeIdsSet\n",
    "#     for prof in ProfsSet\n",
    "#         @constraint(model, sum([courseTimeBool[(course, timeId)] for course in profToCourseDict[prof]]) <= 1)\n",
    "#     end\n",
    "# end\n",
    "\n",
    "# Contraint: at most 6 courses to be chosen (replaced in favour of the next constraint)\n",
    "# @constraint(model, sum([coursesBool[course] for course in CoursesSet]) <= 6)\n",
    "\n",
    "# Constraint: exactly one course from one prof\n",
    "for prof in ProfsSet\n",
    "    @constraint(model, sum([coursesBool[course] for course in profToCourseDict[prof]]) == 1)\n",
    "end\n",
    "\n",
    "#################################################################"
   ]
  },
  {
   "cell_type": "code",
   "execution_count": 10,
   "metadata": {},
   "outputs": [],
   "source": [
    "# Objective\n",
    "@objective(model, Max, sum([z[student, course]*courseRatingDict[student, course] for student in 1:numStudents, course in CoursesSet]));"
   ]
  },
  {
   "cell_type": "code",
   "execution_count": null,
   "metadata": {},
   "outputs": [],
   "source": [
    "optimize!(model)"
   ]
  },
  {
   "cell_type": "code",
   "execution_count": null,
   "metadata": {},
   "outputs": [],
   "source": [
    "solution_summary(model)"
   ]
  },
  {
   "cell_type": "code",
   "execution_count": null,
   "metadata": {},
   "outputs": [],
   "source": [
    "### DISPLAYING THE RESULTS ##############\n",
    "\n",
    "for course in CoursesSet\n",
    "    if getvalue(coursesBool[course]) > 0.5 # tol of 0.5\n",
    "        println(\"Students assigned to $(course) are:\")\n",
    "        currStudents = []\n",
    "        for student in 1:numStudents\n",
    "            if getvalue(studentAssignments[student, course]) > 0.5 # tol of 0.5\n",
    "                push!(currStudents, student)\n",
    "            end\n",
    "        end\n",
    "        println(currStudents)\n",
    "    end\n",
    "end\n",
    "\n",
    "#################################################################"
   ]
  },
  {
   "cell_type": "code",
   "execution_count": null,
   "metadata": {},
   "outputs": [],
   "source": [
    "### DISPLAYING THE RESULTS ##############\n",
    "\n",
    "for student in 1:numStudents\n",
    "    currCourses = String[]\n",
    "    for course in CoursesSet\n",
    "        if getvalue(coursesBool[course]) > 0.5 # tol of 0.5\n",
    "            if getvalue(studentAssignments[student, course]) > 0.5 # tol of 0.5\n",
    "                push!(currCourses, course)\n",
    "            end\n",
    "        end\n",
    "    end\n",
    "    println(\"Student $(student): $(currCourses)\")\n",
    "end\n",
    "\n",
    "#################################################################"
   ]
  },
  {
   "cell_type": "code",
   "execution_count": null,
   "metadata": {},
   "outputs": [],
   "source": []
  }
 ],
 "metadata": {
  "kernelspec": {
   "display_name": "Julia 1.6.1",
   "language": "julia",
   "name": "julia-1.6"
  },
  "language_info": {
   "file_extension": ".jl",
   "mimetype": "application/julia",
   "name": "julia",
   "version": "1.6.1"
  }
 },
 "nbformat": 4,
 "nbformat_minor": 4
}
