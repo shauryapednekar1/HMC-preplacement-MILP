{
 "cells": [
  {
   "cell_type": "code",
   "execution_count": null,
   "metadata": {},
   "outputs": [],
   "source": [
    "import Pkg; \n",
    "Pkg.add(\"GLPK\")\n",
    "Pkg.add(\"JuMP\")\n",
    "Pkg.add(\"CSV\")\n",
    "Pkg.add(\"DataFrames\")"
   ]
  },
  {
   "cell_type": "code",
   "execution_count": null,
   "metadata": {},
   "outputs": [],
   "source": [
    "const DATA_DIR = joinpath(@__DIR__, \"data\");\n",
    "\n",
    "import DataFrames\n",
    "import CSV\n",
    "import Random\n",
    "import GLPK\n",
    "using JuMP"
   ]
  },
  {
   "cell_type": "code",
   "execution_count": null,
   "metadata": {},
   "outputs": [],
   "source": [
    "csv_df = CSV.read(joinpath(DATA_DIR, \"courseData.csv\"), DataFrames.DataFrame)\n",
    "\n",
    "numStudents = 50 # TODO: Make more realistic?\n",
    "\n",
    "Profs = Set(skipmissing(csv_df[!, 1])) # set of all profs\n",
    "\n",
    "numProfs = length(Profs)\n",
    "\n",
    "Courses = Set{String}() # set of all courses\n",
    "profToCourseDict = Dict()\n",
    "\n",
    "for i in 1:7\n",
    "    currProf = csv_df[i, 1]\n",
    "    currCourses = Set{String}()\n",
    "    for j in 2:4\n",
    "        if ~ ismissing(csv_df[i, j])\n",
    "            push!(currCourses, csv_df[i, j])\n",
    "            push!(Courses, csv_df[i, j] )\n",
    "        end        \n",
    "    end\n",
    "    profToCourseDict[currProf] = currCourses\n",
    "end\n",
    "\n",
    "\n",
    "numCourses = length(Courses)\n",
    "\n",
    "studentCourseRatings = rand(1:5, numStudents, numCourses)\n",
    "\n",
    "function getRandomFixedSum(len, fixedSum)\n",
    "    res = []\n",
    "    currSum = 0\n",
    "    \n",
    "    for i in 1:len\n",
    "        if currSum >= fixedSum\n",
    "            break\n",
    "        end\n",
    "        \n",
    "        if i == len\n",
    "            push!(res, (fixedSum-currSum))\n",
    "        else\n",
    "            currRand = rand(0:(fixedSum-currSum))\n",
    "            push!(res, currRand)\n",
    "            currSum += currRand\n",
    "        end\n",
    "    end\n",
    "    \n",
    "    while length(res) < len\n",
    "        push!(res, 0)\n",
    "    end\n",
    "    Random.shuffle!(res)\n",
    "    replace!(res, 0 => -500)\n",
    "    return res\n",
    "end \n",
    "\n"
   ]
  },
  {
   "cell_type": "code",
   "execution_count": null,
   "metadata": {},
   "outputs": [],
   "source": [
    "# creating course rating matrix\n",
    "\n",
    "courseRatingMatrix = zeros(Int32, numStudents, numCourses)\n",
    "courseRatingDict = Dict()\n",
    "\n",
    "for i in 1:numStudents\n",
    "    currRatings = getRandomFixedSum(numCourses,10)\n",
    "    for (index, course) in enumerate(Courses)\n",
    "        courseRatingDict[(i, course)] = currRatings[index]\n",
    "    end\n",
    "    courseRatingMatrix[i, :] = getRandomFixedSum(numCourses,10)\n",
    "end\n",
    "\n",
    "courseRatingMatrix\n",
    "# courseRatingDict"
   ]
  },
  {
   "cell_type": "code",
   "execution_count": null,
   "metadata": {},
   "outputs": [],
   "source": [
    "courseTimingsDict = Dict{String, Any}()\n",
    "\n",
    "for i in 1:numProfs\n",
    "    currProf = csv_df[i, 1]\n",
    "    days = csv_df[i, 5]\n",
    "    startTime = csv_df[i, 6]\n",
    "    EndTime = csv_df[i, 7]\n",
    "    for course in profToCourseDict[currProf]\n",
    "        courseTimingsDict[course] = [days, startTime, EndTime]\n",
    "    end    \n",
    "end\n",
    "\n",
    "# courseTimingsDict"
   ]
  },
  {
   "cell_type": "code",
   "execution_count": null,
   "metadata": {},
   "outputs": [],
   "source": [
    "courseCapDict = Dict{String, Int8}()\n",
    "\n",
    "for i in 1:numCourses\n",
    "    courseCapDict[csv_df[i,9]] = csv_df[i,10]\n",
    "end\n",
    "\n",
    "# courseCapDict"
   ]
  },
  {
   "cell_type": "code",
   "execution_count": null,
   "metadata": {},
   "outputs": [],
   "source": [
    "courseTimeBool = Dict()\n",
    "\n",
    "discreteTimes = []\n",
    "TimeIdsSet = Set()\n",
    "for k in 7:23\n",
    "    for j in 0:5\n",
    "        currTime = \"$k$(j)0\"\n",
    "        currTime = parse(Int64, currTime)\n",
    "        push!(discreteTimes, currTime)\n",
    "    end\n",
    "end\n",
    "\n",
    "days = \"MTWRF\"\n",
    "for currTime in discreteTimes\n",
    "    for day in days\n",
    "        currTimeString = string(currTime)\n",
    "        currTimeId = \"$(day)$(currTimeString)\"\n",
    "        push!(TimeIdsSet, currTimeId)\n",
    "        for course in Courses\n",
    "            if day in courseTimingsDict[course][1]\n",
    "                startTime = courseTimingsDict[course][2]\n",
    "                endTime = courseTimingsDict[course][3]\n",
    "                # Not strictly greater than or less than because\n",
    "                # courses can take place back to back.\n",
    "                afterStartTime = currTime > startTime\n",
    "                beforeEndTime = currTime < endTime\n",
    "                \n",
    "                if afterStartTime & beforeEndTime\n",
    "                    courseTimeBool[(course, currTimeId)] = 1\n",
    "                end\n",
    "            end\n",
    "        end\n",
    "    end\n",
    "end\n",
    "\n",
    "for timeId in TimeIdsSet\n",
    "    for course in Courses\n",
    "        if ~ ((course, timeId) in keys(courseTimeBool))\n",
    "            courseTimeBool[(course, timeId)] = 0\n",
    "        end\n",
    "    end\n",
    "end\n",
    "\n",
    "# courseTimeBool"
   ]
  },
  {
   "cell_type": "code",
   "execution_count": null,
   "metadata": {},
   "outputs": [],
   "source": [
    "model = Model(GLPK.Optimizer)"
   ]
  },
  {
   "cell_type": "code",
   "execution_count": null,
   "metadata": {},
   "outputs": [],
   "source": [
    "@variable(model, coursesBool[course in Courses], Bin)"
   ]
  },
  {
   "cell_type": "code",
   "execution_count": null,
   "metadata": {},
   "outputs": [],
   "source": [
    "@variable(model, studentAssignments[student in 1:numStudents, course in Courses], Bin)"
   ]
  },
  {
   "cell_type": "code",
   "execution_count": null,
   "metadata": {},
   "outputs": [],
   "source": [
    "@variable(model, z[student in 1:numStudents, course in Courses], Bin)"
   ]
  },
  {
   "cell_type": "code",
   "execution_count": null,
   "metadata": {},
   "outputs": [],
   "source": [
    "# linearizing quadratic terms here!\n",
    "# got the trick from this website: https://orinanobworld.blogspot.com/2010/10/binary-variables-and-quadratic-terms.html\n",
    "for student in 1:numStudents\n",
    "    for course in Courses\n",
    "        @constraint(model, z[student, course] <= studentAssignments[student, course])\n",
    "        @constraint(model, z[student, course] >= 0) # not sure if needed\n",
    "        @constraint(model, z[student, course] <= coursesBool[course])\n",
    "        @constraint(model, z[student, course] >= (coursesBool[course] - (1-studentAssignments[student, course])))\n",
    "    end\n",
    "end"
   ]
  },
  {
   "cell_type": "code",
   "execution_count": null,
   "metadata": {},
   "outputs": [],
   "source": [
    "# Constraint: min and max number of electives given to a student\n",
    "for student in 1:numStudents\n",
    "    @constraint(model, 1 <= sum(z[student, course] for course in Courses) <= 2)\n",
    "end"
   ]
  },
  {
   "cell_type": "code",
   "execution_count": null,
   "metadata": {},
   "outputs": [],
   "source": [
    "# Constraint: Cap on # of students in a course\n",
    "for course in Courses\n",
    "    # TODO: hardcoding cap to be equal to 15 for now\n",
    "    @constraint(model, sum(z[student, course] for student in 1:numStudents) <= 15) \n",
    "end\n"
   ]
  },
  {
   "cell_type": "code",
   "execution_count": null,
   "metadata": {},
   "outputs": [],
   "source": [
    "# Constraint: time conflict constraint\n",
    "for timeId in TimeIdsSet\n",
    "    for student in 1:numStudents\n",
    "        @constraint(model, sum([courseTimeBool[(course, timeId)]*z[student, course] for course in Courses]) <= 1)\n",
    "    end\n",
    "end"
   ]
  },
  {
   "cell_type": "code",
   "execution_count": null,
   "metadata": {},
   "outputs": [],
   "source": [
    "# Contraint: at most 6 courses to be chosen\n",
    "@constraint(model, sum([coursesBool[course] for course in Courses]) <= 6)"
   ]
  },
  {
   "cell_type": "code",
   "execution_count": null,
   "metadata": {},
   "outputs": [],
   "source": [
    "# Constraint: at most one course from one prof\n",
    "for prof in Profs\n",
    "    @constraint(model, sum([coursesBool[course] for course in profToCourseDict[prof]]) <= 1)\n",
    "end"
   ]
  },
  {
   "cell_type": "code",
   "execution_count": null,
   "metadata": {},
   "outputs": [],
   "source": [
    "# Objective\n",
    "@objective(model, Max, sum([z[student, course]*courseRatingDict[student, course] for student in 1:numStudents, course in Courses]))"
   ]
  },
  {
   "cell_type": "code",
   "execution_count": null,
   "metadata": {},
   "outputs": [],
   "source": [
    "optimize!(model)"
   ]
  },
  {
   "cell_type": "code",
   "execution_count": null,
   "metadata": {},
   "outputs": [],
   "source": [
    "println(objective_value(model))"
   ]
  },
  {
   "cell_type": "code",
   "execution_count": null,
   "metadata": {},
   "outputs": [],
   "source": [
    "solution_summary(model)"
   ]
  },
  {
   "cell_type": "code",
   "execution_count": null,
   "metadata": {},
   "outputs": [],
   "source": [
    "value.(coursesBool)"
   ]
  },
  {
   "cell_type": "code",
   "execution_count": null,
   "metadata": {},
   "outputs": [],
   "source": [
    "for course in coursesBool\n",
    "    if getvalue(course) > 0\n",
    "        println(course)\n",
    "    end\n",
    "end"
   ]
  },
  {
   "cell_type": "code",
   "execution_count": null,
   "metadata": {},
   "outputs": [],
   "source": [
    "value.(studentAssignments)"
   ]
  },
  {
   "cell_type": "code",
   "execution_count": null,
   "metadata": {},
   "outputs": [],
   "source": []
  }
 ],
 "metadata": {
  "kernelspec": {
   "display_name": "Julia 1.6.1",
   "language": "julia",
   "name": "julia-1.6"
  },
  "language_info": {
   "file_extension": ".jl",
   "mimetype": "application/julia",
   "name": "julia",
   "version": "1.6.1"
  }
 },
 "nbformat": 4,
 "nbformat_minor": 4
}
